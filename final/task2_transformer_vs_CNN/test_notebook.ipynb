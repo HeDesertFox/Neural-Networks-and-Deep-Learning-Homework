{
 "cells": [
  {
   "cell_type": "markdown",
   "metadata": {},
   "source": [
    "# Transformer 与 Cutmix 测试函数"
   ]
  },
  {
   "cell_type": "code",
   "execution_count": null,
   "metadata": {},
   "outputs": [],
   "source": [
    "import torch\n",
    "from torch.utils.tensorboard import SummaryWriter\n",
    "from data_preparation import get_data_loaders\n",
    "from training import train, tune_hyperparameters\n",
    "from model import get_resnet, get_vit  # 导入模型构造函数"
   ]
  },
  {
   "cell_type": "markdown",
   "metadata": {},
   "source": [
    "设置设备与参数"
   ]
  },
  {
   "cell_type": "code",
   "execution_count": null,
   "metadata": {},
   "outputs": [],
   "source": [
    "device = torch.device(\"cuda\" if torch.cuda.is_available() else \"cpu\")\n",
    "batch_size = 128\n",
    "epochs = 60\n",
    "alpha = 1.0  # CutMix alpha"
   ]
  },
  {
   "cell_type": "markdown",
   "metadata": {},
   "source": [
    "加载数据"
   ]
  },
  {
   "cell_type": "code",
   "execution_count": null,
   "metadata": {},
   "outputs": [],
   "source": [
    "# 获取数据加载器\n",
    "train_loader, test_loader = get_data_loaders(batch_size)"
   ]
  },
  {
   "cell_type": "markdown",
   "metadata": {},
   "source": [
    "## 调参参数\n",
    "学习率与正则化强度"
   ]
  },
  {
   "cell_type": "code",
   "execution_count": null,
   "metadata": {},
   "outputs": [],
   "source": [
    "# 定义学习率和权重衰减的取值范围\n",
    "learning_rates = [1e-3, 1e-4, 1e-5]\n",
    "weight_decays = [0]"
   ]
  },
  {
   "cell_type": "markdown",
   "metadata": {},
   "source": [
    "## Resnet 测试"
   ]
  },
  {
   "cell_type": "code",
   "execution_count": null,
   "metadata": {},
   "outputs": [],
   "source": [
    "# 准备ResNet模型并统计参数量\n",
    "resnet_model = get_resnet(num_classes=100, variant='resnet18').to(device)\n",
    "resnet_params = sum(p.numel() for p in resnet_model.parameters())\n",
    "print(f'ResNet-18 model parameters: {resnet_params}')"
   ]
  },
  {
   "cell_type": "code",
   "execution_count": null,
   "metadata": {},
   "outputs": [],
   "source": [
    "# 超参数调优\n",
    "print(\"Tuning ResNet hyperparameters...\")\n",
    "best_resnet_params = tune_hyperparameters(lambda: get_resnet(num_classes=100, variant='resnet18'), train_loader, test_loader, epochs, learning_rates, weight_decays, device, alpha)"
   ]
  },
  {
   "cell_type": "code",
   "execution_count": null,
   "metadata": {},
   "outputs": [],
   "source": [
    "# 可以在这里直接设置超参数\n",
    "best_resnet_params = (1e-3, 0)"
   ]
  },
  {
   "cell_type": "code",
   "execution_count": null,
   "metadata": {},
   "outputs": [],
   "source": [
    "# 用最优参数重新训练ResNet模型并用Tensorboard可视化\n",
    "best_lr_resnet, best_wd_resnet = best_resnet_params\n",
    "writer_resnet = SummaryWriter(log_dir='runs/ResNet_best')\n",
    "# resnet_model = get_resnet(num_classes=100, variant='resnet18').to(device)\n",
    "optimizer_resnet = torch.optim.Adam(resnet_model.parameters(), lr=best_lr_resnet, weight_decay=best_wd_resnet)\n",
    "criterion = torch.nn.CrossEntropyLoss()\n",
    "train(resnet_model, train_loader, test_loader, optimizer_resnet, criterion, epochs, device, alpha, writer_resnet)\n",
    "writer_resnet.close()"
   ]
  },
  {
   "cell_type": "markdown",
   "metadata": {},
   "source": [
    "## Transformer(ViT) 测试"
   ]
  },
  {
   "cell_type": "code",
   "execution_count": null,
   "metadata": {},
   "outputs": [],
   "source": [
    "# 准备ViT模型并统计参数量\n",
    "vit_model = get_vit(image_size=32, patch_size=4, num_classes=100, dim=192, depth=25, heads=6, mlp_dim=384, dropout=0.1, emb_dropout=0.1).to(device)\n",
    "vit_params = sum(p.numel() for p in vit_model.parameters())\n",
    "print(f'ViT model parameters: {vit_params}')"
   ]
  },
  {
   "cell_type": "code",
   "execution_count": null,
   "metadata": {},
   "outputs": [],
   "source": [
    "# 超参数调优\n",
    "print(\"Tuning ViT hyperparameters...\")\n",
    "best_vit_params = tune_hyperparameters(lambda: get_vit(image_size=32, patch_size=4, num_classes=100, dim=192, depth=25, heads=6, mlp_dim=384, dropout=0.1, emb_dropout=0.1), train_loader, test_loader, epochs, learning_rates, weight_decays, device, alpha)"
   ]
  },
  {
   "cell_type": "code",
   "execution_count": null,
   "metadata": {},
   "outputs": [],
   "source": [
    "# 可以在这里直接设置超参数\n",
    "best_vit_params = (1e-3, 0)"
   ]
  },
  {
   "cell_type": "code",
   "execution_count": null,
   "metadata": {},
   "outputs": [],
   "source": [
    "# 用最优参数重新训练ViT模型并用Tensorboard可视化\n",
    "best_lr_vit, best_wd_vit = best_vit_params\n",
    "writer_vit = SummaryWriter(log_dir='runs/ViT_best')\n",
    "# vit_model = get_vit(image_size=32, patch_size=4, num_classes=100, dim=192, depth=12, heads=3, mlp_dim=384, dropout=0.1, emb_dropout=0.1).to(device)\n",
    "optimizer_vit = torch.optim.Adam(vit_model.parameters(), lr=best_lr_vit, weight_decay=best_wd_vit)\n",
    "train(vit_model, train_loader, test_loader, optimizer_vit, criterion, epochs, device, alpha, writer_vit)\n",
    "writer_vit.close()"
   ]
  }
 ],
 "metadata": {
  "kernelspec": {
   "display_name": "deeplearning39",
   "language": "python",
   "name": "python3"
  },
  "language_info": {
   "codemirror_mode": {
    "name": "ipython",
    "version": 3
   },
   "file_extension": ".py",
   "mimetype": "text/x-python",
   "name": "python",
   "nbconvert_exporter": "python",
   "pygments_lexer": "ipython3",
   "version": "3.9.18"
  }
 },
 "nbformat": 4,
 "nbformat_minor": 2
}
