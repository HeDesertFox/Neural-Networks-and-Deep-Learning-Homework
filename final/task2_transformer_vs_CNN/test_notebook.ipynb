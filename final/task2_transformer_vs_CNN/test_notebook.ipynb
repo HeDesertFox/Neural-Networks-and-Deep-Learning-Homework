{
 "cells": [
  {
   "cell_type": "markdown",
   "metadata": {},
   "source": [
    "# Transformer 与 Cutmix 测试函数"
   ]
  },
  {
   "cell_type": "code",
   "execution_count": 1,
   "metadata": {},
   "outputs": [],
   "source": [
    "import torch\n",
    "from torch.utils.tensorboard import SummaryWriter\n",
    "from data_preparation import get_data_loaders\n",
    "from training import train, tune_hyperparameters\n",
    "from model import get_resnet, get_vit  # 导入模型构造函数"
   ]
  },
  {
   "cell_type": "markdown",
   "metadata": {},
   "source": [
    "设置设备与参数"
   ]
  },
  {
   "cell_type": "code",
   "execution_count": 2,
   "metadata": {},
   "outputs": [],
   "source": [
    "device = torch.device(\"cuda\" if torch.cuda.is_available() else \"cpu\")\n",
    "batch_size = 128\n",
    "epochs = 100\n",
    "alpha = 1.0  # CutMix alpha"
   ]
  },
  {
   "cell_type": "markdown",
   "metadata": {},
   "source": [
    "加载数据"
   ]
  },
  {
   "cell_type": "code",
   "execution_count": 3,
   "metadata": {},
   "outputs": [
    {
     "name": "stdout",
     "output_type": "stream",
     "text": [
      "Files already downloaded and verified\n",
      "Files already downloaded and verified\n"
     ]
    }
   ],
   "source": [
    "# 获取数据加载器\n",
    "train_loader, test_loader = get_data_loaders(batch_size)"
   ]
  },
  {
   "cell_type": "markdown",
   "metadata": {},
   "source": [
    "## 调参参数\n",
    "学习率与正则化强度"
   ]
  },
  {
   "cell_type": "code",
   "execution_count": null,
   "metadata": {},
   "outputs": [],
   "source": [
    "# 定义学习率和权重衰减的取值范围\n",
    "learning_rates = [2e-3]\n",
    "weight_decays = [0]"
   ]
  },
  {
   "cell_type": "markdown",
   "metadata": {},
   "source": [
    "## Resnet 测试"
   ]
  },
  {
   "cell_type": "code",
   "execution_count": 8,
   "metadata": {},
   "outputs": [
    {
     "name": "stdout",
     "output_type": "stream",
     "text": [
      "ResNet-18 model parameters: 11227812\n"
     ]
    },
    {
     "name": "stderr",
     "output_type": "stream",
     "text": [
      "c:\\Users\\heyh0\\.conda\\envs\\deeplearning39\\lib\\site-packages\\torchvision\\models\\_utils.py:208: UserWarning: The parameter 'pretrained' is deprecated since 0.13 and may be removed in the future, please use 'weights' instead.\n",
      "  warnings.warn(\n",
      "c:\\Users\\heyh0\\.conda\\envs\\deeplearning39\\lib\\site-packages\\torchvision\\models\\_utils.py:223: UserWarning: Arguments other than a weight enum or `None` for 'weights' are deprecated since 0.13 and may be removed in the future. The current behavior is equivalent to passing `weights=None`.\n",
      "  warnings.warn(msg)\n"
     ]
    }
   ],
   "source": [
    "# 准备ResNet模型并统计参数量\n",
    "resnet_model = get_resnet(num_classes=100, variant='resnet18').to(device)\n",
    "resnet_params = sum(p.numel() for p in resnet_model.parameters())\n",
    "print(f'ResNet-18 model parameters: {resnet_params}')"
   ]
  },
  {
   "cell_type": "code",
   "execution_count": null,
   "metadata": {},
   "outputs": [],
   "source": [
    "# 超参数调优\n",
    "print(\"Tuning ResNet hyperparameters...\")\n",
    "best_resnet_params = tune_hyperparameters(lambda: get_resnet(num_classes=100, variant='resnet18'), train_loader, test_loader, epochs, learning_rates, weight_decays, device, alpha)"
   ]
  },
  {
   "cell_type": "code",
   "execution_count": 9,
   "metadata": {},
   "outputs": [],
   "source": [
    "# 可以在这里直接设置超参数\n",
    "best_resnet_params = (1e-3, 0)"
   ]
  },
  {
   "cell_type": "code",
   "execution_count": 10,
   "metadata": {},
   "outputs": [
    {
     "name": "stdout",
     "output_type": "stream",
     "text": [
      "Epoch [1/100] Train Loss: 4.3509, Accuracy: 5.64%, Validation Loss: 3.8010, Accuracy: 12.91%\n",
      "Epoch [2/100] Train Loss: 4.1365, Accuracy: 9.29%, Validation Loss: 3.4126, Accuracy: 18.89%\n",
      "Epoch [3/100] Train Loss: 4.0385, Accuracy: 11.44%, Validation Loss: 3.4367, Accuracy: 19.79%\n",
      "Epoch [4/100] Train Loss: 3.9381, Accuracy: 13.24%, Validation Loss: 3.0841, Accuracy: 24.39%\n",
      "Epoch [5/100] Train Loss: 3.8682, Accuracy: 14.66%, Validation Loss: 3.1134, Accuracy: 25.56%\n",
      "Epoch [6/100] Train Loss: 3.8059, Accuracy: 16.55%, Validation Loss: 2.8709, Accuracy: 29.27%\n",
      "Epoch [7/100] Train Loss: 3.7284, Accuracy: 17.44%, Validation Loss: 2.8152, Accuracy: 30.75%\n",
      "Epoch [8/100] Train Loss: 3.7023, Accuracy: 18.69%, Validation Loss: 2.7804, Accuracy: 32.13%\n",
      "Epoch [9/100] Train Loss: 3.6701, Accuracy: 18.50%, Validation Loss: 2.5921, Accuracy: 34.87%\n",
      "Epoch [10/100] Train Loss: 3.6399, Accuracy: 19.34%, Validation Loss: 2.5985, Accuracy: 36.19%\n",
      "Epoch [11/100] Train Loss: 3.5569, Accuracy: 20.76%, Validation Loss: 2.7328, Accuracy: 35.88%\n",
      "Epoch [12/100] Train Loss: 3.5614, Accuracy: 20.61%, Validation Loss: 2.4491, Accuracy: 39.70%\n",
      "Epoch [13/100] Train Loss: 3.5317, Accuracy: 21.89%, Validation Loss: 2.4828, Accuracy: 38.04%\n",
      "Epoch [14/100] Train Loss: 3.5166, Accuracy: 21.29%, Validation Loss: 2.4502, Accuracy: 39.78%\n",
      "Epoch [15/100] Train Loss: 3.5042, Accuracy: 23.64%, Validation Loss: 2.3217, Accuracy: 41.81%\n",
      "Epoch [16/100] Train Loss: 3.4631, Accuracy: 24.12%, Validation Loss: 2.2888, Accuracy: 42.95%\n",
      "Epoch [17/100] Train Loss: 3.4526, Accuracy: 23.71%, Validation Loss: 2.3321, Accuracy: 41.95%\n",
      "Epoch [18/100] Train Loss: 3.4223, Accuracy: 24.83%, Validation Loss: 2.2384, Accuracy: 44.14%\n",
      "Epoch [19/100] Train Loss: 3.3668, Accuracy: 25.10%, Validation Loss: 2.2402, Accuracy: 44.22%\n",
      "Epoch [20/100] Train Loss: 3.4356, Accuracy: 23.56%, Validation Loss: 2.2780, Accuracy: 44.70%\n",
      "Epoch [21/100] Train Loss: 3.4167, Accuracy: 24.69%, Validation Loss: 2.2065, Accuracy: 45.16%\n",
      "Epoch [22/100] Train Loss: 3.3677, Accuracy: 26.36%, Validation Loss: 2.1849, Accuracy: 46.22%\n",
      "Epoch [23/100] Train Loss: 3.2961, Accuracy: 26.14%, Validation Loss: 2.2198, Accuracy: 44.73%\n",
      "Epoch [24/100] Train Loss: 3.3069, Accuracy: 26.05%, Validation Loss: 2.2082, Accuracy: 46.51%\n",
      "Epoch [25/100] Train Loss: 3.2890, Accuracy: 25.55%, Validation Loss: 2.1788, Accuracy: 47.30%\n",
      "Epoch [26/100] Train Loss: 3.2975, Accuracy: 26.16%, Validation Loss: 2.1044, Accuracy: 48.02%\n",
      "Epoch [27/100] Train Loss: 3.2435, Accuracy: 27.94%, Validation Loss: 2.0819, Accuracy: 48.45%\n",
      "Epoch [28/100] Train Loss: 3.2881, Accuracy: 27.67%, Validation Loss: 2.0403, Accuracy: 48.63%\n",
      "Epoch [29/100] Train Loss: 3.2640, Accuracy: 27.35%, Validation Loss: 2.0571, Accuracy: 48.58%\n",
      "Epoch [30/100] Train Loss: 3.2685, Accuracy: 27.61%, Validation Loss: 2.0627, Accuracy: 48.65%\n",
      "Epoch [31/100] Train Loss: 3.2302, Accuracy: 27.03%, Validation Loss: 2.0518, Accuracy: 48.67%\n",
      "Epoch [32/100] Train Loss: 3.1751, Accuracy: 28.01%, Validation Loss: 2.0490, Accuracy: 48.36%\n",
      "Epoch [33/100] Train Loss: 3.2502, Accuracy: 27.74%, Validation Loss: 2.0487, Accuracy: 49.61%\n",
      "Epoch [34/100] Train Loss: 3.1860, Accuracy: 29.96%, Validation Loss: 2.0317, Accuracy: 50.67%\n",
      "Epoch [35/100] Train Loss: 3.1492, Accuracy: 29.52%, Validation Loss: 1.9602, Accuracy: 50.65%\n",
      "Epoch [36/100] Train Loss: 3.2105, Accuracy: 27.81%, Validation Loss: 1.9329, Accuracy: 50.77%\n",
      "Epoch [37/100] Train Loss: 3.1611, Accuracy: 28.68%, Validation Loss: 2.0335, Accuracy: 50.21%\n",
      "Epoch [38/100] Train Loss: 3.1574, Accuracy: 28.72%, Validation Loss: 1.9088, Accuracy: 52.21%\n",
      "Epoch [39/100] Train Loss: 3.1761, Accuracy: 29.43%, Validation Loss: 1.9287, Accuracy: 51.80%\n",
      "Epoch [40/100] Train Loss: 3.1271, Accuracy: 29.99%, Validation Loss: 1.9671, Accuracy: 52.07%\n",
      "Epoch [41/100] Train Loss: 3.1535, Accuracy: 30.08%, Validation Loss: 1.8727, Accuracy: 52.39%\n",
      "Epoch [42/100] Train Loss: 3.0830, Accuracy: 31.44%, Validation Loss: 1.9641, Accuracy: 52.06%\n",
      "Epoch [43/100] Train Loss: 3.1371, Accuracy: 30.66%, Validation Loss: 1.8575, Accuracy: 54.03%\n",
      "Epoch [44/100] Train Loss: 3.1188, Accuracy: 30.52%, Validation Loss: 1.8958, Accuracy: 52.49%\n",
      "Epoch [45/100] Train Loss: 3.0861, Accuracy: 31.28%, Validation Loss: 1.8712, Accuracy: 53.65%\n",
      "Epoch [46/100] Train Loss: 3.0600, Accuracy: 31.66%, Validation Loss: 1.8906, Accuracy: 52.01%\n",
      "Epoch [47/100] Train Loss: 3.0096, Accuracy: 31.47%, Validation Loss: 1.7446, Accuracy: 54.95%\n",
      "Epoch [48/100] Train Loss: 3.0854, Accuracy: 31.86%, Validation Loss: 1.7813, Accuracy: 55.17%\n",
      "Epoch [49/100] Train Loss: 3.0809, Accuracy: 30.74%, Validation Loss: 1.9191, Accuracy: 52.70%\n",
      "Epoch [50/100] Train Loss: 3.0613, Accuracy: 31.72%, Validation Loss: 1.8585, Accuracy: 53.82%\n",
      "Epoch [51/100] Train Loss: 3.0116, Accuracy: 33.28%, Validation Loss: 1.8199, Accuracy: 54.08%\n",
      "Epoch [52/100] Train Loss: 3.0255, Accuracy: 31.35%, Validation Loss: 1.8710, Accuracy: 53.69%\n",
      "Epoch [53/100] Train Loss: 3.0455, Accuracy: 30.10%, Validation Loss: 1.7981, Accuracy: 54.47%\n",
      "Epoch [54/100] Train Loss: 3.0080, Accuracy: 31.56%, Validation Loss: 1.7970, Accuracy: 54.12%\n",
      "Epoch [55/100] Train Loss: 2.9929, Accuracy: 33.20%, Validation Loss: 1.8521, Accuracy: 53.79%\n",
      "Epoch [56/100] Train Loss: 3.0864, Accuracy: 31.98%, Validation Loss: 1.9028, Accuracy: 53.72%\n",
      "Epoch [57/100] Train Loss: 3.0909, Accuracy: 32.85%, Validation Loss: 1.7725, Accuracy: 55.41%\n",
      "Epoch [58/100] Train Loss: 2.9761, Accuracy: 33.20%, Validation Loss: 1.8098, Accuracy: 55.02%\n",
      "Epoch [59/100] Train Loss: 3.1047, Accuracy: 30.37%, Validation Loss: 1.9364, Accuracy: 52.07%\n",
      "Epoch [60/100] Train Loss: 3.0234, Accuracy: 33.20%, Validation Loss: 1.8337, Accuracy: 54.50%\n",
      "Epoch [61/100] Train Loss: 2.9807, Accuracy: 33.31%, Validation Loss: 1.7966, Accuracy: 54.62%\n",
      "Epoch [62/100] Train Loss: 2.9662, Accuracy: 34.45%, Validation Loss: 1.8411, Accuracy: 54.36%\n",
      "Epoch [63/100] Train Loss: 2.9446, Accuracy: 32.62%, Validation Loss: 1.8275, Accuracy: 55.75%\n",
      "Epoch [64/100] Train Loss: 2.9735, Accuracy: 32.88%, Validation Loss: 1.7837, Accuracy: 54.76%\n",
      "Epoch [65/100] Train Loss: 2.9775, Accuracy: 32.39%, Validation Loss: 1.8347, Accuracy: 55.06%\n",
      "Epoch [66/100] Train Loss: 2.9155, Accuracy: 32.67%, Validation Loss: 1.7337, Accuracy: 56.32%\n",
      "Epoch [67/100] Train Loss: 2.9630, Accuracy: 32.64%, Validation Loss: 1.7093, Accuracy: 57.09%\n",
      "Epoch [68/100] Train Loss: 2.9293, Accuracy: 32.73%, Validation Loss: 1.7462, Accuracy: 56.19%\n",
      "Epoch [69/100] Train Loss: 3.0143, Accuracy: 32.46%, Validation Loss: 1.7723, Accuracy: 56.17%\n",
      "Epoch [70/100] Train Loss: 2.9462, Accuracy: 32.58%, Validation Loss: 1.8249, Accuracy: 54.57%\n",
      "Epoch [71/100] Train Loss: 2.9237, Accuracy: 34.09%, Validation Loss: 1.7372, Accuracy: 56.34%\n",
      "Epoch [72/100] Train Loss: 2.9569, Accuracy: 32.99%, Validation Loss: 1.7341, Accuracy: 56.19%\n",
      "Epoch [73/100] Train Loss: 2.8839, Accuracy: 34.64%, Validation Loss: 1.7652, Accuracy: 55.87%\n",
      "Epoch [74/100] Train Loss: 2.8868, Accuracy: 33.42%, Validation Loss: 1.7810, Accuracy: 56.60%\n",
      "Epoch [75/100] Train Loss: 2.8987, Accuracy: 34.36%, Validation Loss: 1.6985, Accuracy: 55.36%\n",
      "Epoch [76/100] Train Loss: 2.9258, Accuracy: 34.30%, Validation Loss: 1.7553, Accuracy: 57.12%\n",
      "Epoch [77/100] Train Loss: 2.9292, Accuracy: 34.18%, Validation Loss: 1.7516, Accuracy: 56.69%\n",
      "Epoch [78/100] Train Loss: 2.9329, Accuracy: 33.58%, Validation Loss: 1.6998, Accuracy: 56.62%\n",
      "Epoch [79/100] Train Loss: 2.9170, Accuracy: 35.17%, Validation Loss: 1.7507, Accuracy: 56.49%\n",
      "Epoch [80/100] Train Loss: 2.8493, Accuracy: 34.43%, Validation Loss: 1.7350, Accuracy: 56.23%\n",
      "Epoch [81/100] Train Loss: 2.9042, Accuracy: 33.55%, Validation Loss: 1.7226, Accuracy: 57.28%\n",
      "Epoch [82/100] Train Loss: 2.9418, Accuracy: 34.24%, Validation Loss: 1.7550, Accuracy: 56.80%\n",
      "Epoch [83/100] Train Loss: 2.8476, Accuracy: 36.28%, Validation Loss: 1.7381, Accuracy: 57.60%\n",
      "Epoch [84/100] Train Loss: 2.8780, Accuracy: 34.31%, Validation Loss: 1.7474, Accuracy: 57.09%\n",
      "Epoch [85/100] Train Loss: 2.8780, Accuracy: 35.80%, Validation Loss: 1.6917, Accuracy: 58.14%\n",
      "Epoch [86/100] Train Loss: 2.9245, Accuracy: 34.52%, Validation Loss: 1.7154, Accuracy: 57.55%\n",
      "Epoch [87/100] Train Loss: 2.8415, Accuracy: 36.71%, Validation Loss: 1.6943, Accuracy: 57.74%\n",
      "Epoch [88/100] Train Loss: 2.8726, Accuracy: 34.04%, Validation Loss: 1.7334, Accuracy: 57.50%\n",
      "Epoch [89/100] Train Loss: 2.8753, Accuracy: 33.47%, Validation Loss: 1.7513, Accuracy: 56.84%\n",
      "Epoch [90/100] Train Loss: 2.8515, Accuracy: 34.33%, Validation Loss: 1.7066, Accuracy: 57.19%\n",
      "Epoch [91/100] Train Loss: 2.8693, Accuracy: 36.12%, Validation Loss: 1.7177, Accuracy: 57.40%\n",
      "Epoch [92/100] Train Loss: 2.8779, Accuracy: 35.67%, Validation Loss: 1.6004, Accuracy: 58.73%\n",
      "Epoch [93/100] Train Loss: 2.8153, Accuracy: 34.52%, Validation Loss: 1.6630, Accuracy: 57.89%\n",
      "Epoch [94/100] Train Loss: 2.8298, Accuracy: 34.11%, Validation Loss: 1.7358, Accuracy: 56.97%\n",
      "Epoch [95/100] Train Loss: 2.8317, Accuracy: 34.31%, Validation Loss: 1.6416, Accuracy: 58.52%\n",
      "Epoch [96/100] Train Loss: 2.8850, Accuracy: 34.80%, Validation Loss: 1.6492, Accuracy: 58.45%\n",
      "Epoch [97/100] Train Loss: 2.7663, Accuracy: 37.79%, Validation Loss: 1.6679, Accuracy: 58.44%\n",
      "Epoch [98/100] Train Loss: 2.7955, Accuracy: 38.02%, Validation Loss: 1.7207, Accuracy: 58.32%\n",
      "Epoch [99/100] Train Loss: 2.8504, Accuracy: 34.59%, Validation Loss: 1.6793, Accuracy: 58.19%\n",
      "Epoch [100/100] Train Loss: 2.7803, Accuracy: 36.78%, Validation Loss: 1.6918, Accuracy: 58.37%\n"
     ]
    }
   ],
   "source": [
    "# 用最优参数重新训练ResNet模型并用Tensorboard可视化\n",
    "best_lr_resnet, best_wd_resnet = best_resnet_params\n",
    "writer_resnet = SummaryWriter(log_dir='runs/ResNet_best')\n",
    "# resnet_model = get_resnet(num_classes=100, variant='resnet18').to(device)\n",
    "optimizer_resnet = torch.optim.Adam(resnet_model.parameters(), lr=best_lr_resnet, weight_decay=best_wd_resnet)\n",
    "criterion = torch.nn.CrossEntropyLoss()\n",
    "train(resnet_model, train_loader, test_loader, optimizer_resnet, criterion, epochs, device, alpha, writer_resnet)\n",
    "writer_resnet.close()\n",
    "\n",
    "# 保存模型的状态字典\n",
    "torch.save(resnet_model.state_dict(), 'resnet_model_state_dict.pth')"
   ]
  },
  {
   "cell_type": "markdown",
   "metadata": {},
   "source": [
    "## Transformer(ViT) 测试"
   ]
  },
  {
   "cell_type": "code",
   "execution_count": 4,
   "metadata": {},
   "outputs": [
    {
     "name": "stdout",
     "output_type": "stream",
     "text": [
      "ViT model parameters: 11139844\n"
     ]
    }
   ],
   "source": [
    "# 准备ViT模型并统计参数量\n",
    "vit_model = get_vit(image_size=32, patch_size=4, num_classes=100, dim=192, depth=25, heads=6, mlp_dim=384, dropout=0.1, emb_dropout=0.1).to(device)\n",
    "vit_params = sum(p.numel() for p in vit_model.parameters())\n",
    "print(f'ViT model parameters: {vit_params}')"
   ]
  },
  {
   "cell_type": "code",
   "execution_count": null,
   "metadata": {},
   "outputs": [],
   "source": [
    "# 超参数调优\n",
    "print(\"Tuning ViT hyperparameters...\")\n",
    "best_vit_params = tune_hyperparameters(lambda: get_vit(image_size=32, patch_size=4, num_classes=100, dim=192, depth=25, heads=6, mlp_dim=384, dropout=0.1, emb_dropout=0.1), train_loader, test_loader, epochs, learning_rates, weight_decays, device, alpha)"
   ]
  },
  {
   "cell_type": "code",
   "execution_count": 5,
   "metadata": {},
   "outputs": [],
   "source": [
    "# 可以在这里直接设置超参数\n",
    "best_vit_params = (4e-4, 1e-5)"
   ]
  },
  {
   "cell_type": "code",
   "execution_count": 7,
   "metadata": {},
   "outputs": [
    {
     "name": "stdout",
     "output_type": "stream",
     "text": [
      "Epoch [1/100] Train Loss: 4.4377, Accuracy: 3.73%, Validation Loss: 4.0193, Accuracy: 7.84%\n",
      "Epoch [2/100] Train Loss: 4.2628, Accuracy: 6.13%, Validation Loss: 3.7911, Accuracy: 11.80%\n",
      "Epoch [3/100] Train Loss: 4.1497, Accuracy: 8.59%, Validation Loss: 3.6105, Accuracy: 15.22%\n",
      "Epoch [4/100] Train Loss: 4.0782, Accuracy: 10.19%, Validation Loss: 3.4194, Accuracy: 18.21%\n",
      "Epoch [5/100] Train Loss: 4.0060, Accuracy: 10.96%, Validation Loss: 3.3228, Accuracy: 20.36%\n",
      "Epoch [6/100] Train Loss: 3.9524, Accuracy: 12.25%, Validation Loss: 3.2378, Accuracy: 22.00%\n",
      "Epoch [7/100] Train Loss: 3.8981, Accuracy: 13.86%, Validation Loss: 3.0769, Accuracy: 26.08%\n",
      "Epoch [8/100] Train Loss: 3.8440, Accuracy: 14.58%, Validation Loss: 3.0501, Accuracy: 25.73%\n",
      "Epoch [9/100] Train Loss: 3.8471, Accuracy: 15.36%, Validation Loss: 2.9437, Accuracy: 28.61%\n",
      "Epoch [10/100] Train Loss: 3.8070, Accuracy: 16.07%, Validation Loss: 2.9150, Accuracy: 28.59%\n",
      "Epoch [11/100] Train Loss: 3.7515, Accuracy: 16.52%, Validation Loss: 2.8614, Accuracy: 29.45%\n",
      "Epoch [12/100] Train Loss: 3.7588, Accuracy: 17.73%, Validation Loss: 2.8269, Accuracy: 31.33%\n",
      "Epoch [13/100] Train Loss: 3.7030, Accuracy: 18.16%, Validation Loss: 2.7385, Accuracy: 33.65%\n",
      "Epoch [14/100] Train Loss: 3.7033, Accuracy: 18.36%, Validation Loss: 2.7235, Accuracy: 32.88%\n",
      "Epoch [15/100] Train Loss: 3.6807, Accuracy: 18.58%, Validation Loss: 2.6628, Accuracy: 34.46%\n",
      "Epoch [16/100] Train Loss: 3.6321, Accuracy: 19.57%, Validation Loss: 2.6050, Accuracy: 35.55%\n",
      "Epoch [17/100] Train Loss: 3.6026, Accuracy: 20.06%, Validation Loss: 2.5636, Accuracy: 36.08%\n",
      "Epoch [18/100] Train Loss: 3.6081, Accuracy: 19.92%, Validation Loss: 2.5567, Accuracy: 36.75%\n",
      "Epoch [19/100] Train Loss: 3.5493, Accuracy: 20.07%, Validation Loss: 2.4944, Accuracy: 38.22%\n",
      "Epoch [20/100] Train Loss: 3.5363, Accuracy: 21.55%, Validation Loss: 2.4493, Accuracy: 39.75%\n",
      "Epoch [21/100] Train Loss: 3.5063, Accuracy: 22.60%, Validation Loss: 2.3940, Accuracy: 40.21%\n",
      "Epoch [22/100] Train Loss: 3.4994, Accuracy: 22.46%, Validation Loss: 2.3855, Accuracy: 40.36%\n",
      "Epoch [23/100] Train Loss: 3.4987, Accuracy: 22.32%, Validation Loss: 2.3364, Accuracy: 42.22%\n",
      "Epoch [24/100] Train Loss: 3.4902, Accuracy: 22.65%, Validation Loss: 2.3264, Accuracy: 42.07%\n",
      "Epoch [25/100] Train Loss: 3.4214, Accuracy: 24.96%, Validation Loss: 2.2864, Accuracy: 42.33%\n",
      "Epoch [26/100] Train Loss: 3.4187, Accuracy: 25.44%, Validation Loss: 2.2614, Accuracy: 43.71%\n",
      "Epoch [27/100] Train Loss: 3.4110, Accuracy: 24.36%, Validation Loss: 2.2272, Accuracy: 44.23%\n",
      "Epoch [28/100] Train Loss: 3.3776, Accuracy: 27.20%, Validation Loss: 2.2135, Accuracy: 45.04%\n",
      "Epoch [29/100] Train Loss: 3.3394, Accuracy: 27.49%, Validation Loss: 2.1200, Accuracy: 46.80%\n",
      "Epoch [30/100] Train Loss: 3.2945, Accuracy: 27.58%, Validation Loss: 2.1529, Accuracy: 46.66%\n",
      "Epoch [31/100] Train Loss: 3.3094, Accuracy: 27.55%, Validation Loss: 2.1022, Accuracy: 46.49%\n",
      "Epoch [32/100] Train Loss: 3.3017, Accuracy: 27.77%, Validation Loss: 2.0500, Accuracy: 48.34%\n",
      "Epoch [33/100] Train Loss: 3.2683, Accuracy: 27.58%, Validation Loss: 2.0480, Accuracy: 48.62%\n",
      "Epoch [34/100] Train Loss: 3.2959, Accuracy: 28.17%, Validation Loss: 2.0644, Accuracy: 47.98%\n",
      "Epoch [35/100] Train Loss: 3.2575, Accuracy: 28.87%, Validation Loss: 2.0295, Accuracy: 49.13%\n",
      "Epoch [36/100] Train Loss: 3.2384, Accuracy: 29.70%, Validation Loss: 1.9887, Accuracy: 49.82%\n",
      "Epoch [37/100] Train Loss: 3.2106, Accuracy: 28.72%, Validation Loss: 1.9673, Accuracy: 50.37%\n",
      "Epoch [38/100] Train Loss: 3.1857, Accuracy: 29.59%, Validation Loss: 1.9665, Accuracy: 49.88%\n",
      "Epoch [39/100] Train Loss: 3.2224, Accuracy: 29.93%, Validation Loss: 1.9822, Accuracy: 50.41%\n",
      "Epoch [40/100] Train Loss: 3.1632, Accuracy: 30.04%, Validation Loss: 1.9070, Accuracy: 51.40%\n",
      "Epoch [41/100] Train Loss: 3.1697, Accuracy: 30.13%, Validation Loss: 1.8768, Accuracy: 52.26%\n",
      "Epoch [42/100] Train Loss: 3.1768, Accuracy: 29.28%, Validation Loss: 1.8968, Accuracy: 52.09%\n",
      "Epoch [43/100] Train Loss: 3.1402, Accuracy: 31.30%, Validation Loss: 1.8643, Accuracy: 53.28%\n",
      "Epoch [44/100] Train Loss: 3.1414, Accuracy: 30.35%, Validation Loss: 1.8437, Accuracy: 53.31%\n",
      "Epoch [45/100] Train Loss: 3.1302, Accuracy: 32.15%, Validation Loss: 1.8273, Accuracy: 54.11%\n",
      "Epoch [46/100] Train Loss: 3.1272, Accuracy: 33.06%, Validation Loss: 1.8748, Accuracy: 53.76%\n",
      "Epoch [47/100] Train Loss: 3.0373, Accuracy: 32.72%, Validation Loss: 1.7531, Accuracy: 55.02%\n",
      "Epoch [48/100] Train Loss: 3.0865, Accuracy: 32.40%, Validation Loss: 1.7630, Accuracy: 54.93%\n",
      "Epoch [49/100] Train Loss: 3.1219, Accuracy: 32.71%, Validation Loss: 1.7770, Accuracy: 55.07%\n",
      "Epoch [50/100] Train Loss: 3.0638, Accuracy: 33.39%, Validation Loss: 1.7178, Accuracy: 55.91%\n",
      "Epoch [51/100] Train Loss: 3.0924, Accuracy: 33.30%, Validation Loss: 1.7833, Accuracy: 55.42%\n",
      "Epoch [52/100] Train Loss: 3.0359, Accuracy: 33.83%, Validation Loss: 1.7545, Accuracy: 55.46%\n",
      "Epoch [53/100] Train Loss: 3.0696, Accuracy: 33.01%, Validation Loss: 1.7556, Accuracy: 54.98%\n",
      "Epoch [54/100] Train Loss: 3.0574, Accuracy: 32.89%, Validation Loss: 1.7380, Accuracy: 55.96%\n",
      "Epoch [55/100] Train Loss: 2.9540, Accuracy: 34.18%, Validation Loss: 1.6739, Accuracy: 56.84%\n",
      "Epoch [56/100] Train Loss: 3.0270, Accuracy: 33.46%, Validation Loss: 1.6937, Accuracy: 56.73%\n",
      "Epoch [57/100] Train Loss: 3.0174, Accuracy: 33.79%, Validation Loss: 1.6955, Accuracy: 57.00%\n",
      "Epoch [58/100] Train Loss: 2.9591, Accuracy: 34.75%, Validation Loss: 1.6525, Accuracy: 57.93%\n",
      "Epoch [59/100] Train Loss: 2.9848, Accuracy: 34.70%, Validation Loss: 1.6320, Accuracy: 58.21%\n",
      "Epoch [60/100] Train Loss: 2.9429, Accuracy: 35.32%, Validation Loss: 1.6454, Accuracy: 57.32%\n",
      "Epoch [61/100] Train Loss: 2.8984, Accuracy: 36.69%, Validation Loss: 1.6345, Accuracy: 58.22%\n",
      "Epoch [62/100] Train Loss: 2.9342, Accuracy: 35.35%, Validation Loss: 1.6253, Accuracy: 57.49%\n",
      "Epoch [63/100] Train Loss: 2.9489, Accuracy: 36.06%, Validation Loss: 1.5997, Accuracy: 58.57%\n",
      "Epoch [64/100] Train Loss: 2.8800, Accuracy: 36.92%, Validation Loss: 1.5827, Accuracy: 59.26%\n",
      "Epoch [65/100] Train Loss: 2.8625, Accuracy: 38.52%, Validation Loss: 1.5451, Accuracy: 60.13%\n",
      "Epoch [66/100] Train Loss: 2.8748, Accuracy: 37.92%, Validation Loss: 1.5458, Accuracy: 59.74%\n",
      "Epoch [67/100] Train Loss: 2.8217, Accuracy: 37.39%, Validation Loss: 1.5378, Accuracy: 60.13%\n",
      "Epoch [68/100] Train Loss: 2.8637, Accuracy: 38.15%, Validation Loss: 1.5833, Accuracy: 59.52%\n",
      "Epoch [69/100] Train Loss: 2.7981, Accuracy: 37.95%, Validation Loss: 1.5488, Accuracy: 60.03%\n",
      "Epoch [70/100] Train Loss: 2.8378, Accuracy: 38.07%, Validation Loss: 1.5415, Accuracy: 60.42%\n",
      "Epoch [71/100] Train Loss: 2.8547, Accuracy: 38.09%, Validation Loss: 1.5035, Accuracy: 60.95%\n",
      "Epoch [72/100] Train Loss: 2.8264, Accuracy: 38.39%, Validation Loss: 1.5040, Accuracy: 61.07%\n",
      "Epoch [73/100] Train Loss: 2.8062, Accuracy: 36.50%, Validation Loss: 1.5203, Accuracy: 60.47%\n",
      "Epoch [74/100] Train Loss: 2.7628, Accuracy: 38.14%, Validation Loss: 1.5061, Accuracy: 61.24%\n",
      "Epoch [75/100] Train Loss: 2.7768, Accuracy: 37.93%, Validation Loss: 1.4764, Accuracy: 62.29%\n",
      "Epoch [76/100] Train Loss: 2.7127, Accuracy: 41.19%, Validation Loss: 1.4572, Accuracy: 61.22%\n",
      "Epoch [77/100] Train Loss: 2.7820, Accuracy: 36.83%, Validation Loss: 1.4696, Accuracy: 61.20%\n",
      "Epoch [78/100] Train Loss: 2.7417, Accuracy: 39.74%, Validation Loss: 1.4673, Accuracy: 61.95%\n",
      "Epoch [79/100] Train Loss: 2.8137, Accuracy: 38.59%, Validation Loss: 1.4896, Accuracy: 61.42%\n",
      "Epoch [80/100] Train Loss: 2.7538, Accuracy: 38.98%, Validation Loss: 1.4640, Accuracy: 61.95%\n",
      "Epoch [81/100] Train Loss: 2.7423, Accuracy: 39.83%, Validation Loss: 1.4574, Accuracy: 62.19%\n",
      "Epoch [82/100] Train Loss: 2.7073, Accuracy: 39.81%, Validation Loss: 1.4281, Accuracy: 62.50%\n",
      "Epoch [83/100] Train Loss: 2.6920, Accuracy: 38.74%, Validation Loss: 1.4387, Accuracy: 61.88%\n",
      "Epoch [84/100] Train Loss: 2.6739, Accuracy: 41.44%, Validation Loss: 1.4050, Accuracy: 63.07%\n",
      "Epoch [85/100] Train Loss: 2.7122, Accuracy: 39.24%, Validation Loss: 1.4260, Accuracy: 62.81%\n",
      "Epoch [86/100] Train Loss: 2.6673, Accuracy: 40.82%, Validation Loss: 1.4317, Accuracy: 62.37%\n",
      "Epoch [87/100] Train Loss: 2.6948, Accuracy: 41.73%, Validation Loss: 1.4159, Accuracy: 62.91%\n",
      "Epoch [88/100] Train Loss: 2.6867, Accuracy: 38.34%, Validation Loss: 1.4440, Accuracy: 62.79%\n",
      "Epoch [89/100] Train Loss: 2.6523, Accuracy: 41.49%, Validation Loss: 1.3952, Accuracy: 63.48%\n",
      "Epoch [90/100] Train Loss: 2.6404, Accuracy: 42.01%, Validation Loss: 1.3881, Accuracy: 63.67%\n",
      "Epoch [91/100] Train Loss: 2.6354, Accuracy: 40.56%, Validation Loss: 1.4135, Accuracy: 62.45%\n",
      "Epoch [92/100] Train Loss: 2.6301, Accuracy: 38.62%, Validation Loss: 1.4104, Accuracy: 63.00%\n",
      "Epoch [93/100] Train Loss: 2.6402, Accuracy: 42.13%, Validation Loss: 1.4099, Accuracy: 63.29%\n",
      "Epoch [94/100] Train Loss: 2.5991, Accuracy: 39.73%, Validation Loss: 1.3813, Accuracy: 63.60%\n",
      "Epoch [95/100] Train Loss: 2.5729, Accuracy: 43.27%, Validation Loss: 1.3753, Accuracy: 63.85%\n",
      "Epoch [96/100] Train Loss: 2.5693, Accuracy: 42.97%, Validation Loss: 1.3847, Accuracy: 63.68%\n",
      "Epoch [97/100] Train Loss: 2.5777, Accuracy: 41.68%, Validation Loss: 1.3428, Accuracy: 64.64%\n",
      "Epoch [98/100] Train Loss: 2.5329, Accuracy: 43.52%, Validation Loss: 1.3734, Accuracy: 64.39%\n",
      "Epoch [99/100] Train Loss: 2.5418, Accuracy: 43.42%, Validation Loss: 1.3372, Accuracy: 65.18%\n",
      "Epoch [100/100] Train Loss: 2.5843, Accuracy: 43.57%, Validation Loss: 1.3526, Accuracy: 64.93%\n"
     ]
    }
   ],
   "source": [
    "# 用最优参数重新训练ViT模型并用Tensorboard可视化\n",
    "best_lr_vit, best_wd_vit = best_vit_params\n",
    "writer_vit = SummaryWriter(log_dir='runs/ViT_best')\n",
    "# vit_model = get_vit(image_size=32, patch_size=4, num_classes=100, dim=192, depth=12, heads=3, mlp_dim=384, dropout=0.1, emb_dropout=0.1).to(device)\n",
    "optimizer_vit = torch.optim.Adam(vit_model.parameters(), lr=best_lr_vit, weight_decay=best_wd_vit)\n",
    "criterion = torch.nn.CrossEntropyLoss()\n",
    "train(vit_model, train_loader, test_loader, optimizer_vit, criterion, epochs, device, alpha, writer_vit)\n",
    "writer_vit.close()\n",
    "\n",
    "# 保存模型的状态字典\n",
    "torch.save(vit_model.state_dict(), 'vit_model_state_dict.pth')"
   ]
  }
 ],
 "metadata": {
  "kernelspec": {
   "display_name": "deeplearning39",
   "language": "python",
   "name": "python3"
  },
  "language_info": {
   "codemirror_mode": {
    "name": "ipython",
    "version": 3
   },
   "file_extension": ".py",
   "mimetype": "text/x-python",
   "name": "python",
   "nbconvert_exporter": "python",
   "pygments_lexer": "ipython3",
   "version": "3.12.4"
  }
 },
 "nbformat": 4,
 "nbformat_minor": 2
}
