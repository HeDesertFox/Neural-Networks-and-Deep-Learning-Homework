{
 "cells": [
  {
   "cell_type": "markdown",
   "metadata": {},
   "source": [
    "# NeRF 重建 3D 结构\n",
    "本次实验借助 NeRF Studio 完成，它是 GitHUB 上开源的项目，提供了从 Benchmark 到艺术编辑的一站式服务.\n",
    "\n",
    "使用 NeRF 的方式很简单，只需要两行命令行就可以完成从拍摄的照片/视频到训练现有 NeRF 框架的工作流.\n",
    "\n",
    "## 转换数据集\n",
    "对于视频或者图像文件，NeRF Studio 使用 COLMAP 来估算相机参数和 3D 点云，并将其转换为 NeRF Studio 可以识别的数据类型：\n",
    " \n",
    "`ns-process-data {images, video} --data {DATA_PATH} --output-dir {OUTPUT_PATH}`\n",
    "\n",
    "- 需要注意的是，Ubuntu22.04 的 COLMAP 编译需要使用 `gcc-10`，使用默认的编译器编译会无法连接 CUDA.\n",
    "- 另一种解决方法是使用 Docker Image 或者使用 Conda 安装 colmap， `conda install -c conda-forge colmap`\n",
    "\n",
    "## 进行训练\n",
    "NeRF Studio 提供了多种模型的一键式训练，只需要在命令行中使用如下命令：\n",
    "\n",
    "`ns-train {model_name} --data {DATA_DIR} --vis tensorboard`"
   ]
  }
 ],
 "metadata": {
  "kernelspec": {
   "display_name": "base",
   "language": "python",
   "name": "python3"
  },
  "language_info": {
   "codemirror_mode": {
    "name": "ipython",
    "version": 3
   },
   "file_extension": ".py",
   "mimetype": "text/x-python",
   "name": "python",
   "nbconvert_exporter": "python",
   "pygments_lexer": "ipython3",
   "version": "3.10.6"
  }
 },
 "nbformat": 4,
 "nbformat_minor": 2
}
