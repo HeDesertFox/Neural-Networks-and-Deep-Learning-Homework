{
 "cells": [
  {
   "cell_type": "code",
   "execution_count": 10,
   "metadata": {},
   "outputs": [
    {
     "name": "stdout",
     "output_type": "stream",
     "text": [
      "The autoreload extension is already loaded. To reload it, use:\n",
      "  %reload_ext autoreload\n"
     ]
    }
   ],
   "source": [
    "%load_ext autoreload\n",
    "%autoreload 2"
   ]
  },
  {
   "cell_type": "code",
   "execution_count": 4,
   "metadata": {},
   "outputs": [
    {
     "name": "stdout",
     "output_type": "stream",
     "text": [
      "Files already downloaded and verified\n"
     ]
    }
   ],
   "source": [
    "from simclr import get_dataloader\n",
    "from simclr_model import SimCLR_ResNet18\n",
    "from simclr import SimCLR\n",
    "import torch\n",
    "\n",
    "n_views = 5\n",
    "batch_size = 512\n",
    "feature_dims = 128\n",
    "lr = 0.0003\n",
    "weight_decay = 1e-4\n",
    "temperature = 0.07\n",
    "log_dir = \"./cifar_logs\"\n",
    "\n",
    "cifar10_loader = get_dataloader(\n",
    "    \"./data\", \"CIFAR10\", n_views=n_views, batch_size=batch_size\n",
    ")\n",
    "\n",
    "\n",
    "# stl10 = DataSet(data_folder)\n",
    "# stl10.data_aug(size=96, kernel_size=(5, 5), n_views=5)\n",
    "# stl10.get_dataset(\"stl10\")"
   ]
  },
  {
   "cell_type": "code",
   "execution_count": 5,
   "metadata": {},
   "outputs": [
    {
     "name": "stderr",
     "output_type": "stream",
     "text": [
      "100%|████████████████████████████████████████████████████████████████████████████████████████████████████████████████████████████████████████████████████████████████████████████████████████████████████████████████████| 100/100 [3:33:28<00:00, 128.08s/it]\n"
     ]
    }
   ],
   "source": [
    "model = SimCLR_ResNet18(feature_dims)\n",
    "optimizer = torch.optim.AdamW(model.parameters(), lr=lr, weight_decay=weight_decay)\n",
    "scheduler = torch.optim.lr_scheduler.CosineAnnealingLR(\n",
    "    optimizer, T_max=len(cifar10_loader), eta_min=0, last_epoch=-1\n",
    ")\n",
    "simclr = SimCLR(\n",
    "    model=model,\n",
    "    optimizer=optimizer,\n",
    "    scheduler=scheduler,\n",
    "    batch_size=batch_size,\n",
    "    n_views=n_views,\n",
    "    temperature=temperature,\n",
    "    log_dir=log_dir,\n",
    "    checkpoint_dir=\"./cifar10\",\n",
    ")\n",
    "simclr.train(cifar10_loader, 100, log_every_n_steps=5)"
   ]
  },
  {
   "cell_type": "code",
   "execution_count": 9,
   "metadata": {},
   "outputs": [
    {
     "name": "stdout",
     "output_type": "stream",
     "text": [
      "Files already downloaded and verified\n"
     ]
    },
    {
     "name": "stderr",
     "output_type": "stream",
     "text": [
      " 58%|█████████████████████████████████████████████████████████████████████████████████████████████████████████████████████████▊                                                                                        | 58/100 [10:30:05<7:46:04, 665.81s/it]"
     ]
    }
   ],
   "source": [
    "import torch\n",
    "\n",
    "torch.save(model.state_dict(), \"./cifar10/final_cifar10.pth\")\n",
    "\n",
    "stl10_loader = get_dataloader(\"./data\", \"stl10\", n_views=n_views, batch_size=batch_size)\n",
    "log_dir = \"./stl_logs\"\n",
    "model = SimCLR_ResNet18(feature_dims)\n",
    "optimizer = torch.optim.AdamW(model.parameters(), lr=lr, weight_decay=weight_decay)\n",
    "scheduler = torch.optim.lr_scheduler.CosineAnnealingLR(\n",
    "    optimizer, T_max=len(stl10_loader), eta_min=0, last_epoch=-1\n",
    ")\n",
    "simclr = SimCLR(\n",
    "    model=model,\n",
    "    optimizer=optimizer,\n",
    "    scheduler=scheduler,\n",
    "    batch_size=batch_size,\n",
    "    n_views=n_views,\n",
    "    temperature=temperature,\n",
    "    log_dir=log_dir,\n",
    "    checkpoint_dir=\"./stl10\",\n",
    ")\n",
    "simclr.train(stl10_loader, 100, log_every_n_steps=5)\n",
    "torch.save(model.state_dict(), \"./stl10/final_stl10.pth\")"
   ]
  },
  {
   "cell_type": "code",
   "execution_count": null,
   "metadata": {},
   "outputs": [],
   "source": []
  }
 ],
 "metadata": {
  "kernelspec": {
   "display_name": "nerfstudio",
   "language": "python",
   "name": "nerfstudio"
  },
  "language_info": {
   "codemirror_mode": {
    "name": "ipython",
    "version": 3
   },
   "file_extension": ".py",
   "mimetype": "text/x-python",
   "name": "python",
   "nbconvert_exporter": "python",
   "pygments_lexer": "ipython3",
   "version": "3.8.18"
  }
 },
 "nbformat": 4,
 "nbformat_minor": 2
}
