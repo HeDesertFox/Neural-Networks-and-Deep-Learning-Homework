{
 "cells": [
  {
   "cell_type": "code",
   "execution_count": 12,
   "metadata": {},
   "outputs": [
    {
     "name": "stdout",
     "output_type": "stream",
     "text": [
      "The autoreload extension is already loaded. To reload it, use:\n",
      "  %reload_ext autoreload\n"
     ]
    }
   ],
   "source": [
    "%load_ext autoreload\n",
    "%autoreload 2"
   ]
  },
  {
   "cell_type": "code",
   "execution_count": 13,
   "metadata": {},
   "outputs": [
    {
     "name": "stdout",
     "output_type": "stream",
     "text": [
      "Files already downloaded and verified\n",
      "Files already downloaded and verified\n"
     ]
    }
   ],
   "source": [
    "import torch\n",
    "from simclr_model import SimCLR_ResNet18, FullModel\n",
    "from torch.utils.data import DataLoader\n",
    "import torch.nn as nn\n",
    "import torchvision.datasets as datasets\n",
    "import torchvision.transforms as transforms\n",
    "from finetuning import finetune\n",
    "\n",
    "torch.manual_seed(0)\n",
    "\n",
    "\n",
    "cifar100_train = DataLoader(\n",
    "    datasets.CIFAR100(\n",
    "        root=\"./data\", transform=transforms.ToTensor(), train=True, download=True\n",
    "    ),\n",
    "    batch_size=128,\n",
    "    shuffle=True,\n",
    "    num_workers=4,\n",
    ")\n",
    "cifar100_test = DataLoader(\n",
    "    datasets.CIFAR100(\n",
    "        root=\"./data\", transform=transforms.ToTensor(), train=False, download=True\n",
    "    ),\n",
    "    batch_size=128,\n",
    "    shuffle=False,\n",
    "    num_workers=4,\n",
    ")"
   ]
  },
  {
   "cell_type": "markdown",
   "metadata": {},
   "source": [
    "# 微调由SimCLR预训练的ResNet18"
   ]
  },
  {
   "cell_type": "code",
   "execution_count": 14,
   "metadata": {},
   "outputs": [],
   "source": [
    "simclr = SimCLR_ResNet18(128)\n",
    "simclr.load_state_dict(\n",
    "    torch.load(\"./cifar10/checkpoint_90.pth.tar\")[\"model_state_dict\"]\n",
    ")\n",
    "simclr.backbone.fc = nn.Sequential(\n",
    "    nn.Linear(512, 512),\n",
    "    nn.ReLU(),\n",
    "    nn.Linear(512, 100),\n",
    ")"
   ]
  },
  {
   "cell_type": "code",
   "execution_count": 15,
   "metadata": {},
   "outputs": [
    {
     "name": "stderr",
     "output_type": "stream",
     "text": [
      "  0%|                                                                                                                                                                                                                  | 0/20 [00:00<?, ?it/s]"
     ]
    },
    {
     "name": "stderr",
     "output_type": "stream",
     "text": [
      "100%|█████████████████████████████████████████████████████████████████████████████████████████████████████████████████████████████████████████████████████████████████████████████████████████████████████████| 20/20 [02:18<00:00,  6.93s/it]\n"
     ]
    }
   ],
   "source": [
    "finetune(\n",
    "    model=simclr,\n",
    "    epoch=20,\n",
    "    lr=1e-3,\n",
    "    train_dataloader=cifar100_train,\n",
    "    test_dataloader=cifar100_test,\n",
    "    model_dir=\"./cifar10\",\n",
    "    writer_dir=\"./cifar_finetuning\",\n",
    ")"
   ]
  },
  {
   "cell_type": "markdown",
   "metadata": {},
   "source": [
    "# 微调 ImageNet 预训练的ResNet18"
   ]
  },
  {
   "cell_type": "code",
   "execution_count": 5,
   "metadata": {},
   "outputs": [
    {
     "name": "stderr",
     "output_type": "stream",
     "text": [
      "/opt/mamba/envs/nerfstudio/lib/python3.8/site-packages/torchvision/models/_utils.py:208: UserWarning: The parameter 'pretrained' is deprecated since 0.13 and may be removed in the future, please use 'weights' instead.\n",
      "  warnings.warn(\n",
      "/opt/mamba/envs/nerfstudio/lib/python3.8/site-packages/torchvision/models/_utils.py:223: UserWarning: Arguments other than a weight enum or `None` for 'weights' are deprecated since 0.13 and may be removed in the future. The current behavior is equivalent to passing `weights=ResNet18_Weights.IMAGENET1K_V1`. You can also use `weights=ResNet18_Weights.DEFAULT` to get the most up-to-date weights.\n",
      "  warnings.warn(msg)\n",
      " 10%|████████████████████▏                                                                                                                                                                                     | 2/20 [00:19<02:52,  9.58s/it]"
     ]
    },
    {
     "name": "stderr",
     "output_type": "stream",
     "text": [
      "100%|█████████████████████████████████████████████████████████████████████████████████████████████████████████████████████████████████████████████████████████████████████████████████████████████████████████| 20/20 [03:04<00:00,  9.24s/it]\n"
     ]
    }
   ],
   "source": [
    "resnet18 = FullModel(num_classes=1000, pretrained=True)\n",
    "resnet18.backbone.fc = nn.Sequential(\n",
    "    nn.Linear(512, 512), nn.ReLU(), nn.Linear(512, 100)\n",
    ")\n",
    "finetune(\n",
    "    model=resnet18,\n",
    "    epoch=20,\n",
    "    lr=1e-3,\n",
    "    train_dataloader=cifar100_train,\n",
    "    test_dataloader=cifar100_test,\n",
    "    model_dir=\"./cifar10\",\n",
    "    writer_dir=\"./resnet18_finetuning\",\n",
    ")"
   ]
  },
  {
   "cell_type": "markdown",
   "metadata": {},
   "source": [
    "# 微调随机初始化的 ResNet18"
   ]
  },
  {
   "cell_type": "code",
   "execution_count": 6,
   "metadata": {},
   "outputs": [
    {
     "name": "stderr",
     "output_type": "stream",
     "text": [
      "100%|█████████████████████████████████████████████████████████████████████████████████████████████████████████████████████████████████████████████████████████████████████████████████████████████████████████| 20/20 [03:08<00:00,  9.43s/it]\n"
     ]
    }
   ],
   "source": [
    "random_init = FullModel(num_classes=100, pretrained=False)\n",
    "finetune(\n",
    "    model=random_init,\n",
    "    epoch=20,\n",
    "    lr=1e-3,\n",
    "    train_dataloader=cifar100_train,\n",
    "    test_dataloader=cifar100_test,\n",
    "    model_dir=\"./random_init\",\n",
    "    writer_dir=\"./randominit_finetuning\",\n",
    ")"
   ]
  },
  {
   "cell_type": "markdown",
   "metadata": {},
   "source": [
    "# 微调 STL10 预训练的ResNet18"
   ]
  },
  {
   "cell_type": "code",
   "execution_count": 16,
   "metadata": {},
   "outputs": [
    {
     "name": "stderr",
     "output_type": "stream",
     "text": [
      "100%|█████████████████████████████████████████████████████████████████████████████████████████████████████████████████████████████████████████████████████████████████████████████████████████████████████████| 20/20 [02:16<00:00,  6.82s/it]\n"
     ]
    }
   ],
   "source": [
    "simclr_stl10 = SimCLR_ResNet18(128)\n",
    "simclr_stl10.load_state_dict(\n",
    "    torch.load(\"./stl10/checkpoint_70.pth.tar\")[\"model_state_dict\"]\n",
    ")\n",
    "simclr_stl10.backbone.fc = nn.Sequential(\n",
    "    nn.Linear(512, 512),\n",
    "    nn.ReLU(),\n",
    "    nn.Linear(512, 100),\n",
    ")\n",
    "finetune(\n",
    "    model=simclr_stl10,\n",
    "    epoch=20,\n",
    "    lr=1e-3,\n",
    "    train_dataloader=cifar100_train,\n",
    "    test_dataloader=cifar100_test,\n",
    "    model_dir=\"./stl10\",\n",
    "    writer_dir=\"./stl_finetuning\",\n",
    ")"
   ]
  },
  {
   "cell_type": "code",
   "execution_count": null,
   "metadata": {},
   "outputs": [],
   "source": []
  }
 ],
 "metadata": {
  "kernelspec": {
   "display_name": "nerfstudio",
   "language": "python",
   "name": "nerfstudio"
  },
  "language_info": {
   "codemirror_mode": {
    "name": "ipython",
    "version": 3
   },
   "file_extension": ".py",
   "mimetype": "text/x-python",
   "name": "python",
   "nbconvert_exporter": "python",
   "pygments_lexer": "ipython3",
   "version": "3.8.18"
  }
 },
 "nbformat": 4,
 "nbformat_minor": 2
}
