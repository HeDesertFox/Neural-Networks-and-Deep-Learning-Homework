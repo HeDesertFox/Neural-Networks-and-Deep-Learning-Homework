{
 "cells": [
  {
   "cell_type": "markdown",
   "metadata": {},
   "source": [
    "## 微调任务主函数"
   ]
  },
  {
   "cell_type": "code",
   "execution_count": 1,
   "metadata": {},
   "outputs": [
    {
     "name": "stderr",
     "output_type": "stream",
     "text": [
      "c:\\Users\\heyh0\\.conda\\envs\\deeplearning39\\lib\\site-packages\\numpy\\_distributor_init.py:30: UserWarning: loaded more than 1 DLL from .libs:\n",
      "c:\\Users\\heyh0\\.conda\\envs\\deeplearning39\\lib\\site-packages\\numpy\\.libs\\libopenblas.FB5AE2TYXYH2IJRDKGDGQ3XBKLKTF43H.gfortran-win_amd64.dll\n",
      "c:\\Users\\heyh0\\.conda\\envs\\deeplearning39\\lib\\site-packages\\numpy\\.libs\\libopenblas.XWYDX2IKJW2NMTWSFYNGFUWKQU3LYTCZ.gfortran-win_amd64.dll\n",
      "  warnings.warn(\"loaded more than 1 DLL from .libs:\"\n"
     ]
    }
   ],
   "source": [
    "import torch\n",
    "from torch import nn\n",
    "from torch import optim\n",
    "from torch.utils.tensorboard import SummaryWriter\n",
    "from data_loading_preprocessing import load_data\n",
    "from model import initialize_model\n",
    "from training_fine_tuning import train_model, hyperparameter_tuning"
   ]
  },
  {
   "cell_type": "markdown",
   "metadata": {},
   "source": [
    "# 设置设备\n",
    "尽可能选择GPU进行训练"
   ]
  },
  {
   "cell_type": "code",
   "execution_count": 2,
   "metadata": {},
   "outputs": [],
   "source": [
    "# 设置设备\n",
    "device = torch.device(\"cuda:0\" if torch.cuda.is_available() else \"cpu\")"
   ]
  },
  {
   "cell_type": "markdown",
   "metadata": {},
   "source": [
    "# 数据加载\n",
    "下载数据（如果数据已存在则不重复下载）, 生成批量数据"
   ]
  },
  {
   "cell_type": "code",
   "execution_count": 3,
   "metadata": {},
   "outputs": [
    {
     "name": "stdout",
     "output_type": "stream",
     "text": [
      "数据集已存在, 无需再次下载. \n"
     ]
    }
   ],
   "source": [
    "# 数据加载\n",
    "download_url = 'https://data.caltech.edu/records/65de6-vp158/files/CUB_200_2011.tgz?download=1'\n",
    "train_loader, val_loader = load_data('.', batch_size=32, download_url=download_url)\n",
    "\n",
    "# 创建包含训练和验证加载器的字典\n",
    "dataloaders = {'train': train_loader, 'val': val_loader}"
   ]
  },
  {
   "cell_type": "markdown",
   "metadata": {},
   "source": [
    "# 超参数调优\n",
    "对学习率和训练轮数进行调参（其它参数如动量和权重衰退是定值）\n",
    "\n",
    "如果不想调参, 可以直接进行数据可视化, 那边提供了直接输入超参数的代码块\n"
   ]
  },
  {
   "cell_type": "code",
   "execution_count": 4,
   "metadata": {},
   "outputs": [],
   "source": [
    "# 超参数列表\n",
    "lr_list = [0.5e-2, 1e-2, 2e-2]\n",
    "num_epochs_list = [20]"
   ]
  },
  {
   "cell_type": "markdown",
   "metadata": {},
   "source": [
    "对预训练模型进行超参数调优"
   ]
  },
  {
   "cell_type": "code",
   "execution_count": 5,
   "metadata": {},
   "outputs": [
    {
     "name": "stdout",
     "output_type": "stream",
     "text": [
      "Tuning hyperparameters for pretrained model...\n",
      "Training with lr=0.005, num_epochs=20\n",
      "Final validation accuracy: 0.7164\n",
      "New best accuracy: 0.7164 with lr=0.005 and num_epochs=20\n",
      "Training with lr=0.01, num_epochs=20\n",
      "Final validation accuracy: 0.7245\n",
      "New best accuracy: 0.7245 with lr=0.01 and num_epochs=20\n",
      "Training with lr=0.02, num_epochs=20\n",
      "Final validation accuracy: 0.7370\n",
      "New best accuracy: 0.7370 with lr=0.02 and num_epochs=20\n",
      "Best Params: lr=0.02, num_epochs=20, Accuracy=0.7370\n",
      "Best hyperparameters for pretrained model: {'lr': 0.02, 'num_epochs': 20, 'accuracy': tensor(0.7370, device='cuda:0', dtype=torch.float64)}\n"
     ]
    }
   ],
   "source": [
    "# 对预训练模型进行超参数调优\n",
    "print(\"Tuning hyperparameters for pretrained model...\")\n",
    "model, _ = initialize_model(\"resnet\", 200, use_pretrained=True)\n",
    "model = model.to(device)\n",
    "best_params_pretrained = hyperparameter_tuning(model, dataloaders, device, num_epochs_list, lr_list, use_pretrained=True)\n",
    "print(f\"Best hyperparameters for pretrained model: {best_params_pretrained}\")"
   ]
  },
  {
   "cell_type": "markdown",
   "metadata": {},
   "source": [
    "对随机初始化模型进行超参数调优\n",
    "\n",
    "也可以不调优, 直接使用预训练模型的最优参数（一定意义上更公平）"
   ]
  },
  {
   "cell_type": "code",
   "execution_count": null,
   "metadata": {},
   "outputs": [],
   "source": [
    "# 对随机初始化模型进行超参数调优\n",
    "print(\"Tuning hyperparameters for model with random initialization...\")\n",
    "model, _ = initialize_model(\"resnet\", 200, use_pretrained=False)\n",
    "model = model.to(device)\n",
    "best_params_random = hyperparameter_tuning(model, dataloaders, device, num_epochs_list, lr_list, use_pretrained=False)\n",
    "print(f\"Best hyperparameters for randomly initialized model: {best_params_random}\")"
   ]
  },
  {
   "cell_type": "markdown",
   "metadata": {},
   "source": [
    "# Tensorboard 可视化"
   ]
  },
  {
   "cell_type": "code",
   "execution_count": 6,
   "metadata": {},
   "outputs": [],
   "source": [
    "# 准备TensorBoard\n",
    "writer_pretrained = SummaryWriter('runs/pretrained_model')\n",
    "writer_random = SummaryWriter('runs/random_init_model')"
   ]
  },
  {
   "cell_type": "markdown",
   "metadata": {},
   "source": [
    "如果不想重新调参, 可以手动在下面输入最优参数"
   ]
  },
  {
   "cell_type": "code",
   "execution_count": 7,
   "metadata": {},
   "outputs": [],
   "source": [
    "# 此代码是用来跳过调参, 直接运行的！\n",
    "best_params_pretrained = {'lr': 0.02, 'num_epochs': 20}\n",
    "best_params_random = {'lr': 0.02, 'num_epochs': 20}"
   ]
  },
  {
   "cell_type": "markdown",
   "metadata": {},
   "source": [
    "重新训练预训练模型, 用Tensorboard可视化"
   ]
  },
  {
   "cell_type": "code",
   "execution_count": 8,
   "metadata": {},
   "outputs": [],
   "source": [
    "# Re-train the pretrained model\n",
    "model_pretrained, _ = initialize_model(\"resnet\", 200, use_pretrained=True)\n",
    "model_pretrained = model_pretrained.to(device)\n",
    "\n",
    "# 设置不同的学习率\n",
    "optimizer_pretrained = optim.SGD([\n",
    "    {'params': model_pretrained.fc.parameters(), 'lr': best_params_pretrained['lr']},  # 最后一层\n",
    "    {'params': (p for n, p in model_pretrained.named_parameters() if 'fc' not in n), 'lr': best_params_pretrained['lr'] / 10}  # 其他所有层\n",
    "], momentum=0.9, weight_decay=1e-3)\n",
    "\n",
    "criterion = nn.CrossEntropyLoss()\n",
    "trained_model_pretrained = train_model(\n",
    "    model_pretrained, dataloaders, device, criterion, optimizer_pretrained, num_epochs=best_params_pretrained['num_epochs'], writer=writer_pretrained\n",
    ")\n",
    "writer_pretrained.close()  # 关闭TensorBoard writer\n",
    "\n",
    "# 保存模型的状态字典\n",
    "torch.save(trained_model_pretrained.state_dict(), 'model_pretrained_state_dict.pth')"
   ]
  },
  {
   "cell_type": "code",
   "execution_count": null,
   "metadata": {},
   "outputs": [],
   "source": [
    "# # 可以在这里直接导入模型的状态字典, 而不是重新训练, 可以更方便地进行进一步操作\n",
    "# # 初始化模型\n",
    "# trained_model_pretrained, _ = initialize_model(\"resnet\", 200, use_pretrained=True)\n",
    "# trained_model_pretrained = trained_model_pretrained.to(device)\n",
    "\n",
    "# # 加载模型参数\n",
    "# trained_model_pretrained.load_state_dict(torch.load('model_pretrained_state_dict.pth'))\n",
    "# trained_model_pretrained.eval()  # 设置为评估模式"
   ]
  },
  {
   "cell_type": "markdown",
   "metadata": {},
   "source": [
    "重新训练随机初始化模型, 用Tensorboard可视化"
   ]
  },
  {
   "cell_type": "code",
   "execution_count": 9,
   "metadata": {},
   "outputs": [],
   "source": [
    "# Re-train the model from random initialization\n",
    "model_random, _ = initialize_model(\"resnet\", 200, use_pretrained=False)\n",
    "model_random = model_random.to(device)\n",
    "\n",
    "# 设置优化器\n",
    "optimizer_random = optim.SGD(model_random.parameters(), lr=best_params_random['lr'], momentum=0.9, weight_decay=1e-3)\n",
    "\n",
    "criterion = nn.CrossEntropyLoss()\n",
    "trained_model_random = train_model(\n",
    "    model_random, dataloaders, device, criterion, optimizer_random, num_epochs=best_params_random['num_epochs'], writer=writer_random\n",
    ")\n",
    "writer_random.close()  # 关闭TensorBoard writer\n",
    "\n",
    "# 保存模型的状态字典\n",
    "torch.save(trained_model_random.state_dict(), 'model_random_state_dict.pth')"
   ]
  },
  {
   "cell_type": "code",
   "execution_count": null,
   "metadata": {},
   "outputs": [],
   "source": [
    "# # 可以在这里直接导入模型的状态字典, 而不是重新训练, 可以更方便地进行进一步操作\n",
    "# # 初始化模型\n",
    "# trained_model_random, _ = initialize_model(\"resnet\", 200, use_pretrained=False)\n",
    "# trained_model_random = trained_model_random.to(device)\n",
    "\n",
    "# # 加载模型参数\n",
    "# trained_model_random.load_state_dict(torch.load('model_random_state_dict.pth'))\n",
    "# trained_model_random.eval()  # 设置为评估模式"
   ]
  }
 ],
 "metadata": {
  "kernelspec": {
   "display_name": "deeplearning39",
   "language": "python",
   "name": "python3"
  },
  "language_info": {
   "codemirror_mode": {
    "name": "ipython",
    "version": 3
   },
   "file_extension": ".py",
   "mimetype": "text/x-python",
   "name": "python",
   "nbconvert_exporter": "python",
   "pygments_lexer": "ipython3",
   "version": "3.9.18"
  }
 },
 "nbformat": 4,
 "nbformat_minor": 2
}
