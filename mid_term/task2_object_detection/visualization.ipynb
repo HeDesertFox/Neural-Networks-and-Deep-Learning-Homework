{
 "cells": [
  {
   "cell_type": "code",
   "execution_count": 1,
   "metadata": {},
   "outputs": [],
   "source": [
    "%load_ext autoreload\n",
    "%autoreload 2"
   ]
  },
  {
   "cell_type": "code",
   "execution_count": 4,
   "metadata": {},
   "outputs": [
    {
     "name": "stdout",
     "output_type": "stream",
     "text": [
      "plot curve of ./logs/fastrcnn.json, metric is loss\n",
      "save curve to: ./vis/fastrcnn_loss.png\n",
      "plot curve of ./logs/yolov3.json, metric is loss\n",
      "save curve to: ./vis/yolov3_loss.png\n"
     ]
    }
   ],
   "source": [
    "import matplotlib.pyplot as plt\n",
    "!python analyze_logs.py plot_curve ./logs/fastrcnn.json --keys loss --out ./vis/fastrcnn_loss.png\n",
    "!python analyze_logs.py plot_curve ./logs/yolov3.json --keys loss --out ./vis/yolov3_loss.png"
   ]
  },
  {
   "cell_type": "code",
   "execution_count": 5,
   "metadata": {},
   "outputs": [
    {
     "name": "stdout",
     "output_type": "stream",
     "text": [
      "plot curve of ./logs/fastrcnn.json, metric is mAP\n",
      "save curve to: ./vis/fastrcnn_mAP.png\n",
      "plot curve of ./logs/yolov3.json, metric is mAP\n",
      "save curve to: ./vis/yolov3_mAP.png\n"
     ]
    }
   ],
   "source": [
    "!python analyze_logs.py plot_curve ./logs/fastrcnn.json --keys mAP --out ./vis/fastrcnn_mAP.png\n",
    "!python analyze_logs.py plot_curve ./logs/yolov3.json --keys mAP --out ./vis/yolov3_mAP.png --eval-interval 2"
   ]
  }
 ],
 "metadata": {
  "kernelspec": {
   "display_name": "Biology",
   "language": "python",
   "name": "python3"
  },
  "language_info": {
   "codemirror_mode": {
    "name": "ipython",
    "version": 3
   },
   "file_extension": ".py",
   "mimetype": "text/x-python",
   "name": "python",
   "nbconvert_exporter": "python",
   "pygments_lexer": "ipython3",
   "version": "3.10.14"
  }
 },
 "nbformat": 4,
 "nbformat_minor": 2
}
