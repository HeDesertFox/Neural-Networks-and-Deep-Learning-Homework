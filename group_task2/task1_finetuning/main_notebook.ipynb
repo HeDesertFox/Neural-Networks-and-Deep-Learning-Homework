{
 "cells": [
  {
   "cell_type": "markdown",
   "metadata": {},
   "source": [
    "## 项目主函数"
   ]
  },
  {
   "cell_type": "code",
   "execution_count": null,
   "metadata": {},
   "outputs": [],
   "source": [
    "import torch\n",
    "from torch import nn\n",
    "from torch import optim\n",
    "from torch.utils.tensorboard import SummaryWriter\n",
    "from data_loading_preprocessing import load_data\n",
    "from model import initialize_model\n",
    "from training_fine_tuning import train_model, hyperparameter_tuning"
   ]
  },
  {
   "cell_type": "markdown",
   "metadata": {},
   "source": [
    "# 设置设备"
   ]
  },
  {
   "cell_type": "code",
   "execution_count": null,
   "metadata": {},
   "outputs": [],
   "source": [
    "# 设置设备\n",
    "device = torch.device(\"cuda:0\" if torch.cuda.is_available() else \"cpu\")"
   ]
  },
  {
   "cell_type": "markdown",
   "metadata": {},
   "source": [
    "# 数据加载"
   ]
  },
  {
   "cell_type": "code",
   "execution_count": null,
   "metadata": {},
   "outputs": [],
   "source": [
    "# 数据加载\n",
    "download_url = 'https://data.caltech.edu/records/65de6-vp158/files/CUB_200_2011.tgz?download=1'\n",
    "train_loader, val_loader = load_data('.', batch_size=32, download_url=download_url)\n",
    "\n",
    "# 创建包含训练和验证加载器的字典\n",
    "dataloaders = {'train': train_loader, 'val': val_loader}"
   ]
  },
  {
   "cell_type": "markdown",
   "metadata": {},
   "source": [
    "# 超参数列表"
   ]
  },
  {
   "cell_type": "code",
   "execution_count": null,
   "metadata": {},
   "outputs": [],
   "source": [
    "# 超参数列表\n",
    "lr_list = [0.001, 0.0001, 0.00001]\n",
    "num_epochs_list = [10, 20, 30]"
   ]
  },
  {
   "cell_type": "markdown",
   "metadata": {},
   "source": [
    "# 对预训练模型进行超参数调优"
   ]
  },
  {
   "cell_type": "code",
   "execution_count": null,
   "metadata": {},
   "outputs": [],
   "source": [
    "# 对预训练模型进行超参数调优\n",
    "print(\"Tuning hyperparameters for pretrained model...\")\n",
    "model, _ = initialize_model(\"resnet\", 200, use_pretrained=True)\n",
    "model = model.to(device)\n",
    "best_params_pretrained = hyperparameter_tuning(model, dataloaders, device, num_epochs_list, lr_list, use_pretrained=True)\n",
    "print(f\"Best hyperparameters for pretrained model: {best_params_pretrained}\")"
   ]
  },
  {
   "cell_type": "markdown",
   "metadata": {},
   "source": [
    "# 对随机初始化模型进行超参数调优"
   ]
  },
  {
   "cell_type": "code",
   "execution_count": null,
   "metadata": {},
   "outputs": [],
   "source": [
    "# 对随机初始化模型进行超参数调优\n",
    "print(\"Tuning hyperparameters for model with random initialization...\")\n",
    "model, _ = initialize_model(\"resnet\", 200, use_pretrained=False)\n",
    "model = model.to(device)\n",
    "best_params_random = hyperparameter_tuning(model, dataloaders, device, num_epochs_list, lr_list, use_pretrained=False)\n",
    "print(f\"Best hyperparameters for randomly initialized model: {best_params_random}\")"
   ]
  },
  {
   "cell_type": "markdown",
   "metadata": {},
   "source": [
    "# 可视化"
   ]
  },
  {
   "cell_type": "code",
   "execution_count": null,
   "metadata": {},
   "outputs": [],
   "source": [
    "# 准备TensorBoard\n",
    "writer_pretrained = SummaryWriter('runs/pretrained_model')\n",
    "writer_random = SummaryWriter('runs/random_init_model')"
   ]
  },
  {
   "cell_type": "code",
   "execution_count": null,
   "metadata": {},
   "outputs": [],
   "source": [
    "# Re-train the pretrained model\n",
    "model_pretrained, _ = initialize_model(\"resnet\", 200, use_pretrained=True)\n",
    "model_pretrained = model_pretrained.to(device)\n",
    "\n",
    "# 设置不同的学习率\n",
    "optimizer_pretrained = optim.SGD([\n",
    "    {'params': model_pretrained.fc.parameters(), 'lr': best_params_pretrained['lr'] * 10},  # 最后一层\n",
    "    {'params': (p for n, p in model_pretrained.named_parameters() if 'fc' not in n), 'lr': best_params_pretrained['lr']}  # 其他所有层\n",
    "], momentum=0.9)\n",
    "\n",
    "criterion = nn.CrossEntropyLoss()\n",
    "trained_model_pretrained = train_model(\n",
    "    model_pretrained, dataloaders, device, criterion, optimizer_pretrained, num_epochs=best_params_pretrained['num_epochs'], writer=writer_pretrained\n",
    ")\n",
    "writer_pretrained.close()  # 关闭TensorBoard writer"
   ]
  },
  {
   "cell_type": "code",
   "execution_count": null,
   "metadata": {},
   "outputs": [],
   "source": [
    "# Re-train the model from random initialization\n",
    "model_random, _ = initialize_model(\"resnet\", 200, use_pretrained=False)\n",
    "model_random = model_random.to(device)\n",
    "\n",
    "# 设置优化器\n",
    "optimizer_random = optim.SGD(model_random.parameters(), lr=best_params_random['lr'], momentum=0.9)\n",
    "\n",
    "trained_model_random = train_model(\n",
    "    model_random, dataloaders, device, criterion, optimizer_random, num_epochs=best_params_random['num_epochs'], writer=writer_random\n",
    ")\n",
    "writer_random.close()  # 关闭TensorBoard writer"
   ]
  }
 ],
 "metadata": {
  "kernelspec": {
   "display_name": "deeplearning39",
   "language": "python",
   "name": "python3"
  },
  "language_info": {
   "codemirror_mode": {
    "name": "ipython",
    "version": 3
   },
   "file_extension": ".py",
   "mimetype": "text/x-python",
   "name": "python",
   "nbconvert_exporter": "python",
   "pygments_lexer": "ipython3",
   "version": "3.9.18"
  }
 },
 "nbformat": 4,
 "nbformat_minor": 2
}
