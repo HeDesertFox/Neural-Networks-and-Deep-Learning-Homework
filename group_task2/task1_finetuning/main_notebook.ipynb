{
 "cells": [
  {
   "cell_type": "markdown",
   "metadata": {},
   "source": [
    "## 项目主函数"
   ]
  },
  {
   "cell_type": "code",
   "execution_count": 1,
   "metadata": {},
   "outputs": [
    {
     "name": "stderr",
     "output_type": "stream",
     "text": [
      "c:\\Users\\heyh0\\.conda\\envs\\deeplearning39\\lib\\site-packages\\numpy\\_distributor_init.py:30: UserWarning: loaded more than 1 DLL from .libs:\n",
      "c:\\Users\\heyh0\\.conda\\envs\\deeplearning39\\lib\\site-packages\\numpy\\.libs\\libopenblas.FB5AE2TYXYH2IJRDKGDGQ3XBKLKTF43H.gfortran-win_amd64.dll\n",
      "c:\\Users\\heyh0\\.conda\\envs\\deeplearning39\\lib\\site-packages\\numpy\\.libs\\libopenblas.XWYDX2IKJW2NMTWSFYNGFUWKQU3LYTCZ.gfortran-win_amd64.dll\n",
      "  warnings.warn(\"loaded more than 1 DLL from .libs:\"\n"
     ]
    }
   ],
   "source": [
    "import torch\n",
    "from torch import nn\n",
    "from torch import optim\n",
    "from torch.utils.tensorboard import SummaryWriter\n",
    "from data_loading_preprocessing import load_data\n",
    "from model import initialize_model\n",
    "from training_fine_tuning import train_model, hyperparameter_tuning"
   ]
  },
  {
   "cell_type": "markdown",
   "metadata": {},
   "source": [
    "# 设置设备"
   ]
  },
  {
   "cell_type": "code",
   "execution_count": 2,
   "metadata": {},
   "outputs": [],
   "source": [
    "# 设置设备\n",
    "device = torch.device(\"cuda:0\" if torch.cuda.is_available() else \"cpu\")"
   ]
  },
  {
   "cell_type": "markdown",
   "metadata": {},
   "source": [
    "# 数据加载"
   ]
  },
  {
   "cell_type": "code",
   "execution_count": 3,
   "metadata": {},
   "outputs": [
    {
     "name": "stdout",
     "output_type": "stream",
     "text": [
      "数据集已存在，无需再次下载。\n"
     ]
    }
   ],
   "source": [
    "# 数据加载\n",
    "download_url = 'https://data.caltech.edu/records/65de6-vp158/files/CUB_200_2011.tgz?download=1'\n",
    "train_loader, val_loader = load_data('.', batch_size=32, download_url=download_url)\n",
    "\n",
    "# 创建包含训练和验证加载器的字典\n",
    "dataloaders = {'train': train_loader, 'val': val_loader}"
   ]
  },
  {
   "cell_type": "markdown",
   "metadata": {},
   "source": [
    "# 超参数列表"
   ]
  },
  {
   "cell_type": "code",
   "execution_count": 10,
   "metadata": {},
   "outputs": [],
   "source": [
    "# 超参数列表\n",
    "lr_list = [0.001]\n",
    "num_epochs_list = [10]"
   ]
  },
  {
   "cell_type": "markdown",
   "metadata": {},
   "source": [
    "# 对预训练模型进行超参数调优"
   ]
  },
  {
   "cell_type": "code",
   "execution_count": 11,
   "metadata": {},
   "outputs": [
    {
     "name": "stdout",
     "output_type": "stream",
     "text": [
      "Tuning hyperparameters for pretrained model...\n",
      "Training with lr=0.001, num_epochs=10\n"
     ]
    },
    {
     "ename": "KeyboardInterrupt",
     "evalue": "",
     "output_type": "error",
     "traceback": [
      "\u001b[1;31m---------------------------------------------------------------------------\u001b[0m",
      "\u001b[1;31mKeyboardInterrupt\u001b[0m                         Traceback (most recent call last)",
      "Cell \u001b[1;32mIn[11], line 5\u001b[0m\n\u001b[0;32m      3\u001b[0m model, _ \u001b[38;5;241m=\u001b[39m initialize_model(\u001b[38;5;124m\"\u001b[39m\u001b[38;5;124mresnet\u001b[39m\u001b[38;5;124m\"\u001b[39m, \u001b[38;5;241m200\u001b[39m, use_pretrained\u001b[38;5;241m=\u001b[39m\u001b[38;5;28;01mTrue\u001b[39;00m)\n\u001b[0;32m      4\u001b[0m model \u001b[38;5;241m=\u001b[39m model\u001b[38;5;241m.\u001b[39mto(device)\n\u001b[1;32m----> 5\u001b[0m best_params_pretrained \u001b[38;5;241m=\u001b[39m \u001b[43mhyperparameter_tuning\u001b[49m\u001b[43m(\u001b[49m\u001b[43mmodel\u001b[49m\u001b[43m,\u001b[49m\u001b[43m \u001b[49m\u001b[43mdataloaders\u001b[49m\u001b[43m,\u001b[49m\u001b[43m \u001b[49m\u001b[43mdevice\u001b[49m\u001b[43m,\u001b[49m\u001b[43m \u001b[49m\u001b[43mnum_epochs_list\u001b[49m\u001b[43m,\u001b[49m\u001b[43m \u001b[49m\u001b[43mlr_list\u001b[49m\u001b[43m,\u001b[49m\u001b[43m \u001b[49m\u001b[43muse_pretrained\u001b[49m\u001b[38;5;241;43m=\u001b[39;49m\u001b[38;5;28;43;01mTrue\u001b[39;49;00m\u001b[43m)\u001b[49m\n\u001b[0;32m      6\u001b[0m \u001b[38;5;28mprint\u001b[39m(\u001b[38;5;124mf\u001b[39m\u001b[38;5;124m\"\u001b[39m\u001b[38;5;124mBest hyperparameters for pretrained model: \u001b[39m\u001b[38;5;132;01m{\u001b[39;00mbest_params_pretrained\u001b[38;5;132;01m}\u001b[39;00m\u001b[38;5;124m\"\u001b[39m)\n",
      "File \u001b[1;32mc:\\桌面文件\\复旦\\学在复旦\\大四下\\神经网络与深度学习\\Neural-Networks-and-Deep-Learning-Homework-Group-Tasks\\group_task2\\task1_finetuning\\training_fine_tuning.py:92\u001b[0m, in \u001b[0;36mhyperparameter_tuning\u001b[1;34m(model, dataloaders, device, num_epochs_list, lr_list, use_pretrained)\u001b[0m\n\u001b[0;32m     89\u001b[0m     optimizer \u001b[38;5;241m=\u001b[39m optim\u001b[38;5;241m.\u001b[39mSGD(model\u001b[38;5;241m.\u001b[39mparameters(), lr\u001b[38;5;241m=\u001b[39mlr, momentum\u001b[38;5;241m=\u001b[39m\u001b[38;5;241m0.9\u001b[39m)\n\u001b[0;32m     91\u001b[0m model_copy \u001b[38;5;241m=\u001b[39m deepcopy(model)\u001b[38;5;241m.\u001b[39mto(device)\n\u001b[1;32m---> 92\u001b[0m trained_model \u001b[38;5;241m=\u001b[39m \u001b[43mtrain_model\u001b[49m\u001b[43m(\u001b[49m\u001b[43mmodel_copy\u001b[49m\u001b[43m,\u001b[49m\u001b[43m \u001b[49m\u001b[43mdataloaders\u001b[49m\u001b[43m,\u001b[49m\u001b[43m \u001b[49m\u001b[43mdevice\u001b[49m\u001b[43m,\u001b[49m\u001b[43m \u001b[49m\u001b[43mcriterion\u001b[49m\u001b[43m,\u001b[49m\u001b[43m \u001b[49m\u001b[43moptimizer\u001b[49m\u001b[43m,\u001b[49m\u001b[43m \u001b[49m\u001b[43mnum_epochs\u001b[49m\u001b[43m)\u001b[49m\n\u001b[0;32m     93\u001b[0m trained_model\u001b[38;5;241m.\u001b[39meval()\n\u001b[0;32m     95\u001b[0m val_corrects \u001b[38;5;241m=\u001b[39m \u001b[38;5;241m0\u001b[39m\n",
      "File \u001b[1;32mc:\\桌面文件\\复旦\\学在复旦\\大四下\\神经网络与深度学习\\Neural-Networks-and-Deep-Learning-Homework-Group-Tasks\\group_task2\\task1_finetuning\\training_fine_tuning.py:34\u001b[0m, in \u001b[0;36mtrain_model\u001b[1;34m(model, dataloaders, device, criterion, optimizer, num_epochs, writer)\u001b[0m\n\u001b[0;32m     31\u001b[0m total_samples \u001b[38;5;241m=\u001b[39m \u001b[38;5;241m0\u001b[39m\n\u001b[0;32m     33\u001b[0m \u001b[38;5;28;01mfor\u001b[39;00m inputs, labels \u001b[38;5;129;01min\u001b[39;00m dataloaders[phase]:\n\u001b[1;32m---> 34\u001b[0m     inputs \u001b[38;5;241m=\u001b[39m \u001b[43minputs\u001b[49m\u001b[38;5;241;43m.\u001b[39;49m\u001b[43mto\u001b[49m\u001b[43m(\u001b[49m\u001b[43mdevice\u001b[49m\u001b[43m)\u001b[49m\n\u001b[0;32m     35\u001b[0m     labels \u001b[38;5;241m=\u001b[39m labels\u001b[38;5;241m.\u001b[39mto(device)\n\u001b[0;32m     36\u001b[0m     optimizer\u001b[38;5;241m.\u001b[39mzero_grad()\n",
      "\u001b[1;31mKeyboardInterrupt\u001b[0m: "
     ]
    }
   ],
   "source": [
    "# 对预训练模型进行超参数调优\n",
    "print(\"Tuning hyperparameters for pretrained model...\")\n",
    "model, _ = initialize_model(\"resnet\", 200, use_pretrained=True)\n",
    "model = model.to(device)\n",
    "best_params_pretrained = hyperparameter_tuning(model, dataloaders, device, num_epochs_list, lr_list, use_pretrained=True)\n",
    "print(f\"Best hyperparameters for pretrained model: {best_params_pretrained}\")"
   ]
  },
  {
   "cell_type": "markdown",
   "metadata": {},
   "source": [
    "# 对随机初始化模型进行超参数调优"
   ]
  },
  {
   "cell_type": "code",
   "execution_count": null,
   "metadata": {},
   "outputs": [],
   "source": [
    "# 对随机初始化模型进行超参数调优\n",
    "print(\"Tuning hyperparameters for model with random initialization...\")\n",
    "model, _ = initialize_model(\"resnet\", 200, use_pretrained=False)\n",
    "model = model.to(device)\n",
    "best_params_random = hyperparameter_tuning(model, dataloaders, device, num_epochs_list, lr_list, use_pretrained=False)\n",
    "print(f\"Best hyperparameters for randomly initialized model: {best_params_random}\")"
   ]
  },
  {
   "cell_type": "markdown",
   "metadata": {},
   "source": [
    "# 可视化"
   ]
  },
  {
   "cell_type": "code",
   "execution_count": 4,
   "metadata": {},
   "outputs": [],
   "source": [
    "# 准备TensorBoard\n",
    "writer_pretrained = SummaryWriter('runs/pretrained_model')\n",
    "writer_random = SummaryWriter('runs/random_init_model')"
   ]
  },
  {
   "cell_type": "code",
   "execution_count": 5,
   "metadata": {},
   "outputs": [],
   "source": [
    "# 此代码是用来跳过调参，直接运行的！\n",
    "best_params_pretrained = {'lr': 0.001, 'num_epochs': 10}\n",
    "best_params_random = {'lr': 0.001, 'num_epochs': 10}"
   ]
  },
  {
   "cell_type": "code",
   "execution_count": 6,
   "metadata": {},
   "outputs": [],
   "source": [
    "# Re-train the pretrained model\n",
    "model_pretrained, _ = initialize_model(\"resnet\", 200, use_pretrained=True)\n",
    "model_pretrained = model_pretrained.to(device)\n",
    "\n",
    "# 设置不同的学习率\n",
    "optimizer_pretrained = optim.SGD([\n",
    "    {'params': model_pretrained.fc.parameters(), 'lr': best_params_pretrained['lr'] * 10},  # 最后一层\n",
    "    {'params': (p for n, p in model_pretrained.named_parameters() if 'fc' not in n), 'lr': best_params_pretrained['lr']}  # 其他所有层\n",
    "], momentum=0.9)\n",
    "\n",
    "criterion = nn.CrossEntropyLoss()\n",
    "trained_model_pretrained = train_model(\n",
    "    model_pretrained, dataloaders, device, criterion, optimizer_pretrained, num_epochs=best_params_pretrained['num_epochs'], writer=writer_pretrained\n",
    ")\n",
    "writer_pretrained.close()  # 关闭TensorBoard writer"
   ]
  },
  {
   "cell_type": "code",
   "execution_count": 7,
   "metadata": {},
   "outputs": [],
   "source": [
    "# Re-train the model from random initialization\n",
    "model_random, _ = initialize_model(\"resnet\", 200, use_pretrained=False)\n",
    "model_random = model_random.to(device)\n",
    "\n",
    "# 设置优化器\n",
    "optimizer_random = optim.SGD(model_random.parameters(), lr=best_params_random['lr'], momentum=0.9)\n",
    "\n",
    "criterion = nn.CrossEntropyLoss()\n",
    "trained_model_random = train_model(\n",
    "    model_random, dataloaders, device, criterion, optimizer_random, num_epochs=best_params_random['num_epochs'], writer=writer_random\n",
    ")\n",
    "writer_random.close()  # 关闭TensorBoard writer"
   ]
  }
 ],
 "metadata": {
  "kernelspec": {
   "display_name": "deeplearning39",
   "language": "python",
   "name": "python3"
  },
  "language_info": {
   "codemirror_mode": {
    "name": "ipython",
    "version": 3
   },
   "file_extension": ".py",
   "mimetype": "text/x-python",
   "name": "python",
   "nbconvert_exporter": "python",
   "pygments_lexer": "ipython3",
   "version": "3.9.18"
  }
 },
 "nbformat": 4,
 "nbformat_minor": 2
}
